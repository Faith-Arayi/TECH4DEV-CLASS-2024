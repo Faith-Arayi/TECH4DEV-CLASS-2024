{
 "cells": [
  {
   "cell_type": "code",
   "execution_count": 1,
   "id": "26f5e6a6",
   "metadata": {},
   "outputs": [
    {
     "name": "stdout",
     "output_type": "stream",
     "text": [
      "\ta\tb\tc\n",
      "\\\\\n",
      "''\n",
      "\"\"\"\n",
      "C:\n",
      "in\the downward spriral\n"
     ]
    }
   ],
   "source": [
    "#1. What is the output of the following print statements\n",
    "print(\"\\ta\\tb\\tc\")\n",
    "print(\"\\\\\\\\\")\n",
    "print(\"''\")\n",
    "print(\"\\\"\\\"\\\"\")\n",
    "print(\"C:\\nin\\the downward spriral\")"
   ]
  },
  {
   "cell_type": "code",
   "execution_count": 2,
   "id": "20e9c2ec",
   "metadata": {},
   "outputs": [
    {
     "name": "stdout",
     "output_type": "stream",
     "text": [
      "/ \\ // \\\\ /// \\\\\\\n"
     ]
    }
   ],
   "source": [
    "#2. Write a print statement to produce this output\n",
    "print(\"/ \\\\ // \\\\\\\\ /// \\\\\\\\\\\\\")"
   ]
  },
  {
   "cell_type": "code",
   "execution_count": 3,
   "id": "351b3818",
   "metadata": {},
   "outputs": [
    {
     "name": "stdout",
     "output_type": "stream",
     "text": [
      "This quote is from\n",
      "Irish poet Oscar Wilde:\n",
      "\"Music makes one feel so romantic\n",
      "- at least it always gets on one's nerves -\n",
      "which is the same thing nowadays.\"\n"
     ]
    }
   ],
   "source": [
    "#3. What print statement will generate this output\n",
    "\n",
    "print(\"This quote is from\",\"Irish poet Oscar Wilde:\", '\"Music makes one feel so romantic', \"- at least it always gets on one's nerves -\",'which is the same thing nowadays.\"', sep='\\n')"
   ]
  },
  {
   "cell_type": "code",
   "execution_count": 4,
   "id": "f480201d",
   "metadata": {},
   "outputs": [
    {
     "name": "stdout",
     "output_type": "stream",
     "text": [
      "A \"quoted\" String is\n",
      "'much' better if you learn\n",
      "the rules of \"escape sequences.\"\n",
      "Also,\"\" represents an empty String.\n",
      "Don't forget: use \\\" instead of \"!\n",
      "'' is not the same as \" \n"
     ]
    }
   ],
   "source": [
    "#4. What print statement will generate this output?\n",
    "\n",
    "print(\"\"\"A \\\"quoted\\\" String is\n",
    "'much' better if you learn\n",
    "the rules of \\\"escape sequences.\\\"\n",
    "Also,\\\"\\\" represents an empty String.\n",
    "Don't forget: use \\\\\\\" instead of \\\"!\n",
    "'' is not the same as \\\" \"\"\")"
   ]
  },
  {
   "cell_type": "code",
   "execution_count": 5,
   "id": "ac985278",
   "metadata": {},
   "outputs": [
    {
     "name": "stdout",
     "output_type": "stream",
     "text": [
      "1.8\n",
      "15\n",
      "37\n",
      "47\n",
      "9.6\n",
      "15.75\n",
      "-8\n",
      "9\n"
     ]
    }
   ],
   "source": [
    "#5. What values result from the following expressions?\n",
    "\n",
    "print(9/5)\n",
    "print(695 % 20)\n",
    "print(7 + 6 * 5)\n",
    "print(7 * 6 + 5)\n",
    "print(248 % 100/5)\n",
    "print(6 * 3 - 9 / 4)\n",
    "print((5-7) * 4)\n",
    "print(6 + (18 % (17 - 12)))"
   ]
  },
  {
   "cell_type": "code",
   "execution_count": null,
   "id": "3b15414f",
   "metadata": {},
   "outputs": [],
   "source": []
  }
 ],
 "metadata": {
  "kernelspec": {
   "display_name": "Python 3 (ipykernel)",
   "language": "python",
   "name": "python3"
  },
  "language_info": {
   "codemirror_mode": {
    "name": "ipython",
    "version": 3
   },
   "file_extension": ".py",
   "mimetype": "text/x-python",
   "name": "python",
   "nbconvert_exporter": "python",
   "pygments_lexer": "ipython3",
   "version": "3.11.5"
  }
 },
 "nbformat": 4,
 "nbformat_minor": 5
}
