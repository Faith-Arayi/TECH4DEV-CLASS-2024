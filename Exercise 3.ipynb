{
 "cells": [
  {
   "cell_type": "code",
   "execution_count": 1,
   "id": "4c6f7fd4",
   "metadata": {},
   "outputs": [
    {
     "name": "stdout",
     "output_type": "stream",
     "text": [
      "23\n"
     ]
    }
   ],
   "source": [
    "#1. A program that finds the maximum value of the given list, assuming that the list conatins at least one element\n",
    "def max_num_in_list(list):\n",
    "    max = list[0]\n",
    "    for a in list:\n",
    "        if a > max:\n",
    "            max = a\n",
    "    return max\n",
    "\n",
    "list = [2,4,7,4,23,5,1,4,8,9]\n",
    "print(max_num_in_list(list))"
   ]
  },
  {
   "cell_type": "code",
   "execution_count": 2,
   "id": "e38db5f2",
   "metadata": {},
   "outputs": [
    {
     "name": "stdout",
     "output_type": "stream",
     "text": [
      "24.6\n"
     ]
    }
   ],
   "source": [
    "#2. A program that calculates the average value of the given list\n",
    "y = len(list)\n",
    "def avg_list(list):\n",
    "    sum_num = 0\n",
    "    for x in list:\n",
    "        sum_num += x\n",
    "    return sum_num/y\n",
    "\n",
    "list = [4,7,1,5,11,53,12,46,84,23]\n",
    "print(avg_list(list))"
   ]
  },
  {
   "cell_type": "code",
   "execution_count": 3,
   "id": "3aeda679",
   "metadata": {},
   "outputs": [
    {
     "name": "stdout",
     "output_type": "stream",
     "text": [
      "Enter a list: [2,6,7,45,23,53,14,45,89,5]\n",
      "[5, 89, 45, 14, 53, 23, 45, 7, 6, 2]\n"
     ]
    }
   ],
   "source": [
    "#3. A program that prints the given list of integers in reverse order\n",
    "list = eval(input(\"Enter a list: \"))\n",
    "list.reverse()\n",
    "print(list)\n"
   ]
  },
  {
   "cell_type": "code",
   "execution_count": 4,
   "id": "701d5dde",
   "metadata": {},
   "outputs": [
    {
     "name": "stdout",
     "output_type": "stream",
     "text": [
      "True\n"
     ]
    }
   ],
   "source": [
    "#4. A program that accepts two list of integers and prints true if each element in the first list is less than the element at \n",
    "#the same index in the second list\n",
    "list_1 = [12,2]\n",
    "list_2 = [50,22]\n",
    "\n",
    "def great(list_1,list_2):\n",
    "    for x in list_1:\n",
    "      for y in list_2:\n",
    "        if x < y:\n",
    "            return True\n",
    "        else:\n",
    "            return False\n",
    "        \n",
    "print(great(list_1,list_2))        \n"
   ]
  },
  {
   "cell_type": "code",
   "execution_count": 8,
   "id": "42834ae8",
   "metadata": {},
   "outputs": [
    {
     "name": "stdout",
     "output_type": "stream",
     "text": [
      "Original list:  [2, 4, 6, 7, 3, 1]\n",
      "Swapped List:  [2, 3, 6, 7, 4, 1]\n"
     ]
    }
   ],
   "source": [
    "#5. A program that accepts a list of integers and two indices and swaps the elements at those indexes\n",
    "\n",
    "def swap_elements(list , x,y):\n",
    "    element_x = list[x]\n",
    "    element_y = list[y]\n",
    "    \n",
    "    list[x] = element_y\n",
    "    list[y] = element_x\n",
    "    \n",
    "    return list\n",
    "\n",
    "list = [2,4,6,7,3,1]\n",
    "indices =1, 4 \n",
    "\n",
    "print(\"Original list: \", list)\n",
    "swapped_list = swap_elements(list, *indices)\n",
    "print('Swapped List: ', swapped_list)"
   ]
  },
  {
   "cell_type": "code",
   "execution_count": 9,
   "id": "7432633f",
   "metadata": {},
   "outputs": [
    {
     "name": "stdout",
     "output_type": "stream",
     "text": [
      "Enter list: [1,2,3]\n",
      "Enter list: [4,5]\n",
      "[1, 2, 3, 4, 5]\n"
     ]
    }
   ],
   "source": [
    "#6. A program that accepts two list of integers and prints a new list containing all elements of teh first list followed by all\n",
    "#elements of the second list\n",
    "list1 = eval(input(\"Enter list: \"))\n",
    "list2 = eval(input(\"Enter list: \"))\n",
    "new_list = list1+list2\n",
    "print(new_list)"
   ]
  },
  {
   "cell_type": "code",
   "execution_count": 11,
   "id": "d9ee25d2",
   "metadata": {},
   "outputs": [
    {
     "name": "stdout",
     "output_type": "stream",
     "text": [
      "The last index of 85 is 5\n"
     ]
    }
   ],
   "source": [
    "#7. A program that accepts a list of integers and an integer value as its parameter and prints the last index at which the value\n",
    "#occurs in the list\n",
    "\n",
    "def last_index(list1, value):\n",
    "    try:\n",
    "        last_index = len(list1) -1 -list1[::-1].index(value)\n",
    "        print(\"The last index of {} is {}\".format(value, last_index))\n",
    "    except ValueError:\n",
    "        print(\"{} not found in the list. Last index is -1.\".format(value))\n",
    "    \n",
    "list1 = [74,85,102,99,101,85,56]\n",
    "value = 85\n",
    "last_index(list1,value)"
   ]
  },
  {
   "cell_type": "code",
   "execution_count": 10,
   "id": "6d85c442",
   "metadata": {},
   "outputs": [
    {
     "name": "stdout",
     "output_type": "stream",
     "text": [
      "35\n"
     ]
    }
   ],
   "source": [
    "#8. A program that prints the range of values in a list of integers\n",
    "def list_range(list):\n",
    "    max_value = max(list)\n",
    "    min_value = min(list)\n",
    "    \n",
    "    print((max_value - min_value)+1)\n",
    "    \n",
    "list = [36,12,25,19,46,31,22]\n",
    "list_range(list)"
   ]
  },
  {
   "cell_type": "code",
   "execution_count": 12,
   "id": "d337bff1",
   "metadata": {},
   "outputs": [
    {
     "name": "stdout",
     "output_type": "stream",
     "text": [
      "4\n"
     ]
    }
   ],
   "source": [
    "#9. A program that accepts a list of integers, a minimum value, a maximum values and prints the count of how many elements from\n",
    "#the list falls betweem minimum and maximum value(inclusive)\n",
    "\n",
    "def count(list, min_val, max_val):\n",
    "    count = sum(1 for num in list if min_val <= num <=max_val)\n",
    "    print(count)\n",
    "list = [14,1,22,17,36,7,-43,5]\n",
    "min_val = 4\n",
    "max_val = 17\n",
    "count(list, min_val,max_val)"
   ]
  },
  {
   "cell_type": "code",
   "execution_count": 16,
   "id": "37254425",
   "metadata": {},
   "outputs": [
    {
     "name": "stdout",
     "output_type": "stream",
     "text": [
      "False\n",
      "True\n"
     ]
    }
   ],
   "source": [
    "#10. A program that accepts a list of real numbers and prints true if the list is sorted (non decreasing) order\n",
    "def sorted_order(list):\n",
    "    return list == sorted(list)\n",
    "\n",
    "list1 = [16.1,12.3,22.2,14.4]\n",
    "print(sorted_order(list1))\n",
    "list2 = [1.5,4.3,7.0,19.5,25.1,46.2]\n",
    "print(sorted_order(list2))"
   ]
  },
  {
   "cell_type": "code",
   "execution_count": null,
   "id": "7f0b6b67",
   "metadata": {},
   "outputs": [],
   "source": []
  }
 ],
 "metadata": {
  "kernelspec": {
   "display_name": "Python 3 (ipykernel)",
   "language": "python",
   "name": "python3"
  },
  "language_info": {
   "codemirror_mode": {
    "name": "ipython",
    "version": 3
   },
   "file_extension": ".py",
   "mimetype": "text/x-python",
   "name": "python",
   "nbconvert_exporter": "python",
   "pygments_lexer": "ipython3",
   "version": "3.11.5"
  }
 },
 "nbformat": 4,
 "nbformat_minor": 5
}
