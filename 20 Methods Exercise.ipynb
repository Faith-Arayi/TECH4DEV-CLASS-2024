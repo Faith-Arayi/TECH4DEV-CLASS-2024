{
 "cells": [
  {
   "cell_type": "code",
   "execution_count": 1,
   "id": "6f9aed76",
   "metadata": {},
   "outputs": [
    {
     "name": "stdout",
     "output_type": "stream",
     "text": [
      "5\n"
     ]
    }
   ],
   "source": [
    "#1. removes the last item on a list\n",
    "list = [2,5,3,1,9,5]\n",
    "print(list.pop())"
   ]
  },
  {
   "cell_type": "code",
   "execution_count": 3,
   "id": "36cc4ce6",
   "metadata": {},
   "outputs": [
    {
     "name": "stdout",
     "output_type": "stream",
     "text": [
      "[2, 5, 3, 1, 9, 5, 4]\n"
     ]
    }
   ],
   "source": [
    "#2. adds an item to a list\n",
    "list = [2,5,3,1,9,5]\n",
    "list.append(4)\n",
    "print(list)"
   ]
  },
  {
   "cell_type": "code",
   "execution_count": 4,
   "id": "2ade53b1",
   "metadata": {},
   "outputs": [
    {
     "name": "stdout",
     "output_type": "stream",
     "text": [
      "[9, 5, 5, 3, 2, 1]\n"
     ]
    }
   ],
   "source": [
    "#3. sorts a list in descending order\n",
    "list = [2,5,3,1,9,5]\n",
    "list.sort(reverse = True)\n",
    "print(list)"
   ]
  },
  {
   "cell_type": "code",
   "execution_count": 6,
   "id": "a71e5278",
   "metadata": {},
   "outputs": [
    {
     "name": "stdout",
     "output_type": "stream",
     "text": [
      "[]\n"
     ]
    }
   ],
   "source": [
    "#4. removes all items from a list\n",
    "list = [2,5,3,1,9,5]\n",
    "list.clear()\n",
    "print(list)"
   ]
  },
  {
   "cell_type": "code",
   "execution_count": 12,
   "id": "19c837a2",
   "metadata": {},
   "outputs": [
    {
     "name": "stdout",
     "output_type": "stream",
     "text": [
      "['Meat', 'Snail']\n"
     ]
    }
   ],
   "source": [
    "#5. removes a specified item from a list\n",
    "list = [\"Fish\",\"Meat\",'Snail']\n",
    "list.remove(\"Fish\")\n",
    "print(list)"
   ]
  },
  {
   "cell_type": "code",
   "execution_count": 13,
   "id": "3190c5fe",
   "metadata": {},
   "outputs": [
    {
     "name": "stdout",
     "output_type": "stream",
     "text": [
      "[2, 5, 3, 1, 9, 5, 10, 20]\n"
     ]
    }
   ],
   "source": [
    "#6. adds the elements from a list to another list\n",
    "list = [2,5,3,1,9,5]\n",
    "list2 = [10,20]\n",
    "list.extend(list2)\n",
    "print(list)"
   ]
  },
  {
   "cell_type": "code",
   "execution_count": 16,
   "id": "1acb2a16",
   "metadata": {},
   "outputs": [
    {
     "name": "stdout",
     "output_type": "stream",
     "text": [
      "2\n"
     ]
    }
   ],
   "source": [
    "#7. returns the no of times an element appears in a list\n",
    "list = [2,5,9,3,1,9,5]\n",
    "print(list.count(9))\n"
   ]
  },
  {
   "cell_type": "code",
   "execution_count": 18,
   "id": "5a149aee",
   "metadata": {},
   "outputs": [
    {
     "name": "stdout",
     "output_type": "stream",
     "text": [
      "[1, 2, 3, 5, 5, 9, 9]\n"
     ]
    }
   ],
   "source": [
    "#8. sorts a list in ascending order\n",
    "list = [2,5,9,3,1,9,5]\n",
    "list.sort()\n",
    "print(list)"
   ]
  },
  {
   "cell_type": "code",
   "execution_count": 19,
   "id": "d0857bdb",
   "metadata": {},
   "outputs": [
    {
     "name": "stdout",
     "output_type": "stream",
     "text": [
      "2\n"
     ]
    }
   ],
   "source": [
    "#9. returns the first position of an item in a list\n",
    "list = [2,5,9,3,1,9,5]\n",
    "print(list.index(9))"
   ]
  },
  {
   "cell_type": "code",
   "execution_count": 21,
   "id": "98caaf1f",
   "metadata": {},
   "outputs": [
    {
     "name": "stdout",
     "output_type": "stream",
     "text": [
      "1\n"
     ]
    }
   ],
   "source": [
    "#10. finds the minimium value in a tuple\n",
    "tuple = (2,5,9,3,1,9,5)\n",
    "print(min(tuple))"
   ]
  },
  {
   "cell_type": "code",
   "execution_count": 22,
   "id": "9f184009",
   "metadata": {},
   "outputs": [
    {
     "name": "stdout",
     "output_type": "stream",
     "text": [
      "9\n"
     ]
    }
   ],
   "source": [
    "#11. finds the max value in a tuple\n",
    "tuple = (2,5,9,3,1,9,5)\n",
    "print(max(tuple))"
   ]
  },
  {
   "cell_type": "code",
   "execution_count": 23,
   "id": "d9941da4",
   "metadata": {},
   "outputs": [
    {
     "name": "stdout",
     "output_type": "stream",
     "text": [
      "7\n"
     ]
    }
   ],
   "source": [
    "#12. finds the length in a tuple\n",
    "tuple = (2,5,9,3,1,9,5)\n",
    "print(len(tuple))"
   ]
  },
  {
   "cell_type": "code",
   "execution_count": 24,
   "id": "72637f9e",
   "metadata": {},
   "outputs": [
    {
     "name": "stdout",
     "output_type": "stream",
     "text": [
      "34\n"
     ]
    }
   ],
   "source": [
    "#13. finds the sum in a tuple\n",
    "tuple = (2,5,9,3,1,9,5)\n",
    "print(sum(tuple))"
   ]
  },
  {
   "cell_type": "code",
   "execution_count": 34,
   "id": "c5bb8ae9",
   "metadata": {},
   "outputs": [
    {
     "name": "stdout",
     "output_type": "stream",
     "text": [
      "dict_keys(['Name', 'Age', 'Colour'])\n"
     ]
    }
   ],
   "source": [
    "#14. returns the keys in a dictionary\n",
    "dict = {\n",
    "    'Name': ['Faith','Arayi'],\n",
    "    'Age': 25,\n",
    "    'Colour':['Red','White','Blue']\n",
    "         }\n",
    "print(dict.keys())"
   ]
  },
  {
   "cell_type": "code",
   "execution_count": 45,
   "id": "ea4dfeab",
   "metadata": {},
   "outputs": [
    {
     "name": "stdout",
     "output_type": "stream",
     "text": [
      "{'Name': 'Uji', 'Age': 25, 'Colour': ['Red', 'White', 'Blue']}\n"
     ]
    }
   ],
   "source": [
    "#15. updates a dictionary\n",
    "dict = {\n",
    "    'Name': ['Faith','Arayi'],\n",
    "    'Age': 25,\n",
    "    'Colour':['Red','White','Blue']\n",
    "         }\n",
    "dict.update({'Name':'Uji'})\n",
    "print(dict)"
   ]
  },
  {
   "cell_type": "code",
   "execution_count": 52,
   "id": "bfcf69fb",
   "metadata": {},
   "outputs": [
    {
     "name": "stdout",
     "output_type": "stream",
     "text": [
      "{'Name': ['Faith', 'Arayi'], 'Colour': ['Red', 'White', 'Blue']}\n"
     ]
    }
   ],
   "source": [
    "#16. deletes a key and its values\n",
    "dict = {\n",
    "    'Name': ['Faith','Arayi'],\n",
    "    'Age': 25,\n",
    "    'Colour':['Red','White','Blue']\n",
    "         }\n",
    "del dict['Age']\n",
    "print(dict)"
   ]
  },
  {
   "cell_type": "code",
   "execution_count": 53,
   "id": "abc01179",
   "metadata": {},
   "outputs": [
    {
     "name": "stdout",
     "output_type": "stream",
     "text": [
      "dict_values([['Faith', 'Arayi'], 25, ['Red', 'White', 'Blue']])\n"
     ]
    }
   ],
   "source": [
    "#17. returns a list of all values in a dict\n",
    "dict = {\n",
    "    'Name': ['Faith','Arayi'],\n",
    "    'Age': 25,\n",
    "    'Colour':['Red','White','Blue']\n",
    "         }\n",
    "print(dict.values())"
   ]
  },
  {
   "cell_type": "code",
   "execution_count": 55,
   "id": "07d4b4e7",
   "metadata": {},
   "outputs": [
    {
     "name": "stdout",
     "output_type": "stream",
     "text": [
      "['Red', 'White', 'Blue']\n"
     ]
    }
   ],
   "source": [
    "#18. returns the items in a specified key\n",
    "dict = {\n",
    "    'Name': ['Faith','Arayi'],\n",
    "    'Age': 25,\n",
    "    'Colour':['Red','White','Blue']\n",
    "         }\n",
    "print(dict.get('Colour'))"
   ]
  },
  {
   "cell_type": "code",
   "execution_count": 56,
   "id": "774bf9d3",
   "metadata": {},
   "outputs": [
    {
     "name": "stdout",
     "output_type": "stream",
     "text": [
      "3\n"
     ]
    }
   ],
   "source": [
    "#19. returns the length of keys\n",
    "dict = {\n",
    "    'Name': ['Faith','Arayi'],\n",
    "    'Age': 25,\n",
    "    'Colour':['Red','White','Blue']\n",
    "         }\n",
    "print(len(dict))"
   ]
  },
  {
   "cell_type": "code",
   "execution_count": 54,
   "id": "2f673e56",
   "metadata": {},
   "outputs": [
    {
     "name": "stdout",
     "output_type": "stream",
     "text": [
      "dict_keys(['Name', 'Age', 'Colour'])\n"
     ]
    }
   ],
   "source": [
    "#20. returns all keys in a dictionary\n",
    "dict = {\n",
    "    'Name': ['Faith','Arayi'],\n",
    "    'Age': 25,\n",
    "    'Colour':['Red','White','Blue']\n",
    "         }\n",
    "print(dict.keys())"
   ]
  }
 ],
 "metadata": {
  "kernelspec": {
   "display_name": "Python 3 (ipykernel)",
   "language": "python",
   "name": "python3"
  },
  "language_info": {
   "codemirror_mode": {
    "name": "ipython",
    "version": 3
   },
   "file_extension": ".py",
   "mimetype": "text/x-python",
   "name": "python",
   "nbconvert_exporter": "python",
   "pygments_lexer": "ipython3",
   "version": "3.11.5"
  }
 },
 "nbformat": 4,
 "nbformat_minor": 5
}
