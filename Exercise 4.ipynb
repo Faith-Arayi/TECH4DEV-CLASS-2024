{
 "cells": [
  {
   "cell_type": "code",
   "execution_count": 1,
   "id": "a15107a6",
   "metadata": {},
   "outputs": [
    {
     "name": "stdout",
     "output_type": "stream",
     "text": [
      "+----+\n",
      "\\   /\n",
      "/   \\\n",
      "\\   /\n",
      "/   \\\n",
      "\\   /\n",
      "/   \\\n",
      "+----+\n"
     ]
    }
   ],
   "source": [
    "#1. write a program to produce the following output using for loop\n",
    "for i in range(1):\n",
    "    print(\"+----+\")\n",
    "for i in range(3):\n",
    "    print(\"\\\\   /\")\n",
    "    print(\"/   \\\\\")\n",
    "for _ in range(1):\n",
    "    print(\"+----+\")"
   ]
  },
  {
   "cell_type": "code",
   "execution_count": 2,
   "id": "f7862030",
   "metadata": {},
   "outputs": [
    {
     "name": "stdout",
     "output_type": "stream",
     "text": [
      "**********\n",
      "**********\n",
      "**********\n",
      "**********\n",
      "**********\n"
     ]
    }
   ],
   "source": [
    "#2. write a program to produce the following output using for loop\n",
    "for _ in range(5):\n",
    "    print(\"**********\")"
   ]
  },
  {
   "cell_type": "code",
   "execution_count": 3,
   "id": "d77483f4",
   "metadata": {},
   "outputs": [
    {
     "name": "stdout",
     "output_type": "stream",
     "text": [
      "1\n",
      "2\n",
      "3\n",
      "4\n",
      "5\n",
      "6\n"
     ]
    }
   ],
   "source": [
    "#3a. Complete the code for the following for loop\n",
    "for i in range (1,7):\n",
    "    print(i)"
   ]
  },
  {
   "cell_type": "code",
   "execution_count": 4,
   "id": "131011c4",
   "metadata": {},
   "outputs": [
    {
     "name": "stdout",
     "output_type": "stream",
     "text": [
      "2\n",
      "4\n",
      "6\n",
      "8\n",
      "10\n",
      "12\n"
     ]
    }
   ],
   "source": [
    "#3b.\n",
    "for i in range(2,13):\n",
    "    if i % 2 == 0:\n",
    "       print(i)"
   ]
  },
  {
   "cell_type": "code",
   "execution_count": 5,
   "id": "6706a0da",
   "metadata": {},
   "outputs": [
    {
     "name": "stdout",
     "output_type": "stream",
     "text": [
      "4\n",
      "19\n",
      "34\n",
      "49\n",
      "64\n",
      "79\n"
     ]
    }
   ],
   "source": [
    "#3c.\n",
    "for i in range(4,80,15):\n",
    "    print(i)"
   ]
  },
  {
   "cell_type": "code",
   "execution_count": 6,
   "id": "0aa601f2",
   "metadata": {},
   "outputs": [
    {
     "name": "stdout",
     "output_type": "stream",
     "text": [
      "30\n",
      "20\n",
      "10\n",
      "0\n",
      "-10\n",
      "-20\n"
     ]
    }
   ],
   "source": [
    "#3d.\n",
    "for i in range(30,-21,-10):\n",
    "    print(i)"
   ]
  },
  {
   "cell_type": "code",
   "execution_count": 7,
   "id": "f0e1817a",
   "metadata": {},
   "outputs": [
    {
     "name": "stdout",
     "output_type": "stream",
     "text": [
      "-7\n",
      "-3\n",
      "1\n",
      "5\n",
      "9\n",
      "13\n"
     ]
    }
   ],
   "source": [
    "#3e.\n",
    "for i in range(-7,14,4):\n",
    "    print(i)"
   ]
  },
  {
   "cell_type": "code",
   "execution_count": 8,
   "id": "ed653dee",
   "metadata": {},
   "outputs": [
    {
     "name": "stdout",
     "output_type": "stream",
     "text": [
      "97\n",
      "94\n",
      "91\n",
      "88\n",
      "85\n",
      "82\n"
     ]
    }
   ],
   "source": [
    "#3f.\n",
    "for i in range(97,80,-3):\n",
    "    print(i)"
   ]
  },
  {
   "cell_type": "code",
   "execution_count": 9,
   "id": "b5a0f9e8",
   "metadata": {},
   "outputs": [
    {
     "name": "stdout",
     "output_type": "stream",
     "text": [
      "-4\n",
      "14\n",
      "32\n",
      "50\n",
      "68\n",
      "86\n"
     ]
    }
   ],
   "source": [
    "#3g.\n",
    "for i in range(-4,87,18):\n",
    "    print(i)"
   ]
  },
  {
   "cell_type": "code",
   "execution_count": 10,
   "id": "3a570bf1",
   "metadata": {},
   "outputs": [
    {
     "name": "stdout",
     "output_type": "stream",
     "text": [
      "1\n",
      "22\n",
      "333\n",
      "4444\n",
      "55555\n",
      "666666\n",
      "7777777\n"
     ]
    }
   ],
   "source": [
    "#4. Write a program to ptoduce the following output using for loops. Then use a class constant to make it possible to change \n",
    "#the no of lines in a fig\n",
    "class Figure:\n",
    "    num = 7\n",
    "    def print_figure():\n",
    "      for i in range(1, Figure.num +1):\n",
    "        print(str(i)*i)\n",
    "    \n",
    "Figure.print_figure()"
   ]
  },
  {
   "cell_type": "code",
   "execution_count": 11,
   "id": "4c459cd1",
   "metadata": {},
   "outputs": [
    {
     "data": {
      "text/plain": [
       "50.0"
      ]
     },
     "execution_count": 11,
     "metadata": {},
     "output_type": "execute_result"
    }
   ],
   "source": [
    "#5. Write a method named pay that accepts two parameters, a real number for a TA's salary, and an integer for the no of hours \n",
    "#the TA worked this week. The method should return how much money to pay the TA\n",
    "def pay(salary,hours):\n",
    "    if hours <= 8:\n",
    "        return salary*hours\n",
    "    else:\n",
    "        return (salary*8) + ((salary*1.5)*(hours-8))\n",
    "    \n",
    "salary = 4.0\n",
    "hours = 11\n",
    "pay(salary,hours)"
   ]
  },
  {
   "cell_type": "code",
   "execution_count": 12,
   "id": "bcb76bfc",
   "metadata": {},
   "outputs": [
    {
     "data": {
      "text/plain": [
       "12.566370614359172"
      ]
     },
     "execution_count": 12,
     "metadata": {},
     "output_type": "execute_result"
    }
   ],
   "source": [
    "#6. Write a similar method named area that takes as a parameter the radius of a circle and that returns the area of the circle\n",
    "import math\n",
    "def area(radius):\n",
    "    return math.pi*radius**2\n",
    "\n",
    "radius = 2\n",
    "area(radius)"
   ]
  },
  {
   "cell_type": "code",
   "execution_count": 13,
   "id": "164294b1",
   "metadata": {},
   "outputs": [
    {
     "name": "stdout",
     "output_type": "stream",
     "text": [
      "low? 1\n",
      "high? 1001\n",
      "sum =  500500\n"
     ]
    }
   ],
   "source": [
    "#7.Copy and paste the following code into python IDLE script environment. Modify the code\n",
    "low = int(input(\"low? \",))\n",
    "high= int(input(\"high? \",))\n",
    "sum = 0\n",
    "for i in range(low,high):\n",
    "    sum += i\n",
    "print('sum = ', sum)"
   ]
  },
  {
   "cell_type": "code",
   "execution_count": 14,
   "id": "f76ff997",
   "metadata": {},
   "outputs": [
    {
     "name": "stdout",
     "output_type": "stream",
     "text": [
      "Enter a number:2\n",
      "Enter a number:5\n",
      "Enter a number:21\n",
      "Enter a number:0\n",
      "28.0\n"
     ]
    }
   ],
   "source": [
    "#8. Write a program using while loop that prompts the user for numbers until the user types 0, then output their sum\n",
    "total_sum = 0\n",
    "\n",
    "while True:\n",
    "    user_input = float(input(\"Enter a number:\"))\n",
    "    if user_input == 0:\n",
    "        break\n",
    "    else:\n",
    "         total_sum += user_input\n",
    "print(total_sum)\n"
   ]
  },
  {
   "cell_type": "code",
   "execution_count": 15,
   "id": "be0c32d1",
   "metadata": {},
   "outputs": [
    {
     "name": "stdout",
     "output_type": "stream",
     "text": [
      "Enter a number:33\n",
      "Enter a number:23\n",
      "Enter a number:1\n",
      "Enter a number:-1\n",
      "57.0\n"
     ]
    }
   ],
   "source": [
    "#9. Write a program using while loop that prompts the user for numbers until the user types -1, then output their sum\n",
    "total_sum = 0\n",
    "\n",
    "while True:\n",
    "    user_input = float(input(\"Enter a number:\"))\n",
    "    if user_input == -1:\n",
    "        break\n",
    "    else:\n",
    "         total_sum += user_input\n",
    "print(total_sum)\n"
   ]
  },
  {
   "cell_type": "code",
   "execution_count": 16,
   "id": "fbcc907c",
   "metadata": {},
   "outputs": [
    {
     "name": "stdout",
     "output_type": "stream",
     "text": [
      "HelloHelloHello\n"
     ]
    }
   ],
   "source": [
    "#10. Write a method name rep1 that accepts a string and a number of repitions as parameters and returns the string concatenated\n",
    "#that many times.\n",
    "def rep1(string,repititions):\n",
    "    if repititions <=0:\n",
    "        return \n",
    "    else:\n",
    "        return string*repititions\n",
    "    \n",
    "string = \"Hello\"\n",
    "repititions = 3\n",
    "  \n",
    "print(rep1(string,repititions))"
   ]
  },
  {
   "cell_type": "code",
   "execution_count": 17,
   "id": "6f779963",
   "metadata": {},
   "outputs": [
    {
     "name": "stdout",
     "output_type": "stream",
     "text": [
      "19 18 17 16 15 14 13 12 11 "
     ]
    }
   ],
   "source": [
    "#11. Wrte a method called printRange that accepts two integers as arguements and prints the sequence of numbers between the two\n",
    "#arguements , seperated by spaces\n",
    "def printRange(start,end):\n",
    "    if start < end:\n",
    "        for x in range(start, end + 1):\n",
    "            print(x, end= \" \")\n",
    "    elif start>end:\n",
    "        for x in range(start, end-1,-1):\n",
    "            print(x, end=\" \")\n",
    "    else:\n",
    "        print(end)\n",
    "    \n",
    "printRange(19,11)"
   ]
  },
  {
   "cell_type": "code",
   "execution_count": 18,
   "id": "9e66bc5f",
   "metadata": {},
   "outputs": [
    {
     "name": "stdout",
     "output_type": "stream",
     "text": [
      "How many numbers do you want to enter ? 4\n",
      "Number 1:5\n",
      "Number 2:11\n",
      "Number 3:-2\n",
      "Number 4:3\n",
      "Smallest= -2.0\n",
      "Largest= 11.0\n"
     ]
    }
   ],
   "source": [
    "#12. Write a ,ethod named smallestLargest that ask the user to enter numbers, then prints the smallest and largest of all nos \n",
    "#typed in by the user\n",
    "def smallestLargest():\n",
    "    count = int(input(\"How many numbers do you want to enter ? \"))\n",
    "    nums = [float(input(\"Number {}:\".format(i + 1))) for i in range(count)]\n",
    "    \n",
    "    smallest = min(nums)\n",
    "    largest = max(nums)\n",
    "                          \n",
    "    print(\"Smallest=\", smallest)\n",
    "    print(\"Largest=\", largest)\n",
    "   \n",
    "smallestLargest()"
   ]
  },
  {
   "cell_type": "code",
   "execution_count": 19,
   "id": "d1099641",
   "metadata": {},
   "outputs": [
    {
     "name": "stdout",
     "output_type": "stream",
     "text": [
      "Type a number: 7\n",
      "Type a number: 4\n",
      "Type a number: 16\n",
      "Type a number: -4\n",
      "Average:  9.0\n"
     ]
    }
   ],
   "source": [
    "#13. Write a method printAverage that uses a sentinel loop to repeatedly prompt the user for numbers.\\n\",\n",
    "def printAverage():\n",
    "    total = 0\n",
    "    count = 0\n",
    "    \n",
    "    while True:\n",
    "        number = float(input(\"Type a number: \"))\n",
    "        if number <0:\n",
    "                break\n",
    "        total += number\n",
    "        count += 1\n",
    "    if count >0:\n",
    "        average = total/count\n",
    "        print(\"Average: \", average)\n",
    "            \n",
    "printAverage()"
   ]
  },
  {
   "cell_type": "code",
   "execution_count": 20,
   "id": "438a8096",
   "metadata": {},
   "outputs": [
    {
     "name": "stdout",
     "output_type": "stream",
     "text": [
      "3\n",
      "2\n"
     ]
    }
   ],
   "source": [
    "#14. Write a method named numUnique that takes three integers as parameters and returns the number of uniques integers among the\n",
    "#three\n",
    "def numUnique(num_1, num_2, num_3):\n",
    "    unique = set([num_1, num_2, num_3])\n",
    "    return len(unique)\n",
    "    \n",
    "unique_integers = numUnique(18,3,4)\n",
    "print(unique_integers)\n",
    "    \n",
    "unique_integers = numUnique(6,7,6)\n",
    "print(unique_integers)"
   ]
  },
  {
   "cell_type": "code",
   "execution_count": null,
   "id": "f02be7d0",
   "metadata": {},
   "outputs": [],
   "source": []
  }
 ],
 "metadata": {
  "kernelspec": {
   "display_name": "Python 3 (ipykernel)",
   "language": "python",
   "name": "python3"
  },
  "language_info": {
   "codemirror_mode": {
    "name": "ipython",
    "version": 3
   },
   "file_extension": ".py",
   "mimetype": "text/x-python",
   "name": "python",
   "nbconvert_exporter": "python",
   "pygments_lexer": "ipython3",
   "version": "3.11.5"
  }
 },
 "nbformat": 4,
 "nbformat_minor": 5
}
